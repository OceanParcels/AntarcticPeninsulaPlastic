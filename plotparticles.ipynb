{
 "cells": [
  {
   "cell_type": "code",
   "execution_count": null,
   "metadata": {},
   "outputs": [],
   "source": [
    "from netCDF4 import Dataset\n",
    "import numpy as np\n",
    "import matplotlib.pyplot as plt\n",
    "import matplotlib.colors as colors\n",
    "import matplotlib.animation as animation\n",
    "import datetime\n",
    "from datetime import timedelta as delta\n",
    "from matplotlib import rc\n",
    "from mpl_toolkits.basemap import Basemap"
   ]
  },
  {
   "cell_type": "code",
   "execution_count": null,
   "metadata": {},
   "outputs": [],
   "source": [
    "class ParticleData(object):\n",
    "    def __init__(self):\n",
    "        self.id = []\n",
    "\n",
    "def load_particles_file(fname, varnames):\n",
    "    T = ParticleData()\n",
    "    pfile = Dataset(fname, 'r')\n",
    "    T.id = pfile.variables['trajectory'][:]\n",
    "\n",
    "    for v in varnames:\n",
    "        setattr(T, v, pfile.variables[v][:].T)\n",
    "    T.time_origin = datetime.datetime(1900, 12, 31)\n",
    "    \n",
    "    T.lonends = np.zeros(T.lon.shape[0])\n",
    "    T.latends = np.zeros(T.lon.shape[0])\n",
    "    for i in range(T.lon.shape[0]-1):\n",
    "        lon = T.lon[i,:]\n",
    "        T.lonends[i] = lon[np.isfinite(lon)][-1]\n",
    "        lat = T.lat[i,:]\n",
    "        T.latends[i] = lat[np.isfinite(lat)][-1]\n",
    "    return T\n",
    "\n",
    "Tall = {}\n",
    "for s in range(1, 13):\n",
    "    Tall[s] = load_particles_file('antarcticplastic_1yr_%02d.nc' % s, ['lon', 'lat', 'time'])"
   ]
  },
  {
   "cell_type": "code",
   "execution_count": null,
   "metadata": {},
   "outputs": [],
   "source": [
    "plt.rcParams['figure.figsize'] = (14, 7)\n",
    "fig = plt.figure()\n",
    "axlims = [-75, -50, -150+360, -30+360]\n",
    "m = Basemap(projection='cyl', llcrnrlat=axlims[0], urcrnrlat=axlims[1], llcrnrlon=axlims[2], urcrnrlon=axlims[3], resolution='i')\n",
    "m.drawcoastlines()\n",
    "m.fillcontinents(color='burlywood')\n",
    "m.drawparallels(range(-90, 0, 5), labels=[True,False,False,False])\n",
    "m.drawmeridians(range(0, 360, 5), labels=[False,False,True,False])\n",
    "\n",
    "for i, s in enumerate(Tall):\n",
    "    xs, ys = m(Tall[s].lon, Tall[s].lat)\n",
    "    m.plot(xs[0], ys[0], '.', color=plt.cm.hsv(float(i)/len(Tall)), ms=10, label='Sampling Point #%d'%s)\n",
    "    m.plot(xs[1:], ys[1:], '.', color=plt.cm.hsv(float(i)/len(Tall)), ms=2)\n",
    "\n",
    "plt.legend(loc=1)\n",
    "plt.show()"
   ]
  },
  {
   "cell_type": "code",
   "execution_count": null,
   "metadata": {},
   "outputs": [],
   "source": [
    "plt.rcParams['figure.figsize'] = (14, 20)\n",
    "fig = plt.figure()\n",
    "for i, s in enumerate(Tall):\n",
    "    ax = fig.add_subplot(6, 2, i+1)\n",
    "    m = Basemap(projection='cyl', llcrnrlat=axlims[0], urcrnrlat=axlims[1], llcrnrlon=axlims[2], urcrnrlon=axlims[3], resolution='i')\n",
    "    m.drawcoastlines()\n",
    "    m.fillcontinents(color='burlywood')\n",
    "    m.drawparallels(range(-90, 0, 10), labels=[True,False,False,False])\n",
    "    m.drawmeridians(range(0, 360, 10), labels=[False,False,False, True])\n",
    "    ax.set_title('Sampling Point #%d'%s)\n",
    "\n",
    "    xs, ys = m(Tall[s].lon, Tall[s].lat)\n",
    "    m.plot(xs, ys, '.', color=plt.cm.hsv(float(i)/len(Tall)), ms=2)\n",
    "\n",
    "plt.show()"
   ]
  },
  {
   "cell_type": "code",
   "execution_count": null,
   "metadata": {},
   "outputs": [],
   "source": [
    "plt.rcParams['figure.figsize'] = (14, 5)\n",
    "def makemov(Tall):\n",
    "    fig = plt.figure()\n",
    "    frames = np.arange(0, 365)\n",
    "    \n",
    "    def setmap():\n",
    "        ax = fig.add_subplot(1, 1, 1)\n",
    "        ttl = ax.set_title('Particles 0 days before sampling')\n",
    "        m = Basemap(projection='cyl', llcrnrlat=axlims[0], urcrnrlat=axlims[1], llcrnrlon=axlims[2], urcrnrlon=axlims[3], resolution='i')\n",
    "        m.drawcoastlines()\n",
    "        m.drawparallels(range(-90, 0, 5), labels=[True,False,False,False])\n",
    "        m.drawmeridians(range(0, 360, 5), labels=[False,False,False,True])\n",
    "        m.fillcontinents(color='burlywood')\n",
    "        return m, ttl\n",
    "\n",
    "    def setscat(T, m, col):\n",
    "        xs, ys = m(T.lon[frames[0], :], T.lat[frames[0], :])\n",
    "        scat = m.scatter(xs, ys, c=col, s=40, edgecolor='k', label='Sampling Point #%d'%s)\n",
    "        return scat\n",
    "\n",
    "    m, ttl = setmap()\n",
    "    scat = {}\n",
    "    for i, s in enumerate(Tall):\n",
    "        scat[i] = setscat(Tall[s], m, plt.cm.hsv(float(i)/len(Tall)))\n",
    "    plt.legend(loc=1)\n",
    "    \n",
    "    def animate(t):\n",
    "        for i, s in enumerate(Tall):\n",
    "            if Tall[s].lon.shape[0] > t:\n",
    "                xs, ys = m(Tall[s].lon[t, :], Tall[s].lat[t, :])\n",
    "                scat[i].set_offsets(np.matrix((xs, ys)).transpose())\n",
    "        ttl.set_text('Particles %d days before sampling' % t)\n",
    "        return scat\n",
    "\n",
    "    rc('animation', html='html5')\n",
    "    anim = animation.FuncAnimation(fig, animate, frames=frames, interval=100, blit=False)\n",
    "    \n",
    "    plt.close()\n",
    "    return anim\n",
    "makemov(Tall)"
   ]
  },
  {
   "cell_type": "code",
   "execution_count": null,
   "metadata": {},
   "outputs": [],
   "source": []
  }
 ],
 "metadata": {
  "kernelspec": {
   "display_name": "Python 3",
   "language": "python",
   "name": "python3"
  },
  "language_info": {
   "codemirror_mode": {
    "name": "ipython",
    "version": 3
   },
   "file_extension": ".py",
   "mimetype": "text/x-python",
   "name": "python",
   "nbconvert_exporter": "python",
   "pygments_lexer": "ipython3",
   "version": "3.6.4"
  }
 },
 "nbformat": 4,
 "nbformat_minor": 2
}
